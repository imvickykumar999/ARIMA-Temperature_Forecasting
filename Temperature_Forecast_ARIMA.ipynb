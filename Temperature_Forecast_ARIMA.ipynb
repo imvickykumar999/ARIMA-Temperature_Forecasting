{
  "nbformat": 4,
  "nbformat_minor": 0,
  "metadata": {
    "colab": {
      "name": "Temperature_Forecast_ARIMA.ipynb",
      "provenance": [],
      "collapsed_sections": [],
      "include_colab_link": true
    },
    "kernelspec": {
      "name": "python3",
      "display_name": "Python 3"
    }
  },
  {
   "cell_type": "code",
   "execution_count": 1,
   "metadata": {
    "colab": {},
    "colab_type": "code",
    "id": "rgI5xsf7eUVw",
    "scrolled": true
   },
   "outputs": [
    {
     "name": "stdout",
     "output_type": "stream",
     "text": [
      "Collecting pmdarima\n",
      "  Downloading pmdarima-1.8.2-cp38-cp38-win_amd64.whl (596 kB)\n",
      "Requirement already satisfied: setuptools!=50.0.0,>=38.6.0 in c:\\users\\vicky\\anaconda3\\lib\\site-packages (from pmdarima) (49.2.0.post20200714)\n",
      "Requirement already satisfied: pandas>=0.19 in c:\\users\\vicky\\anaconda3\\lib\\site-packages (from pmdarima) (1.1.4)\n",
      "Requirement already satisfied: Cython!=0.29.18,>=0.29 in c:\\users\\vicky\\anaconda3\\lib\\site-packages (from pmdarima) (0.29.19)\n",
      "Requirement already satisfied: scikit-learn>=0.22 in c:\\users\\vicky\\anaconda3\\lib\\site-packages (from pmdarima) (0.23.1)\n",
      "Requirement already satisfied: statsmodels!=0.12.0,>=0.11 in c:\\users\\vicky\\anaconda3\\lib\\site-packages (from pmdarima) (0.11.1)\n",
      "Requirement already satisfied: joblib>=0.11 in c:\\users\\vicky\\anaconda3\\lib\\site-packages (from pmdarima) (0.16.0)\n",
      "Requirement already satisfied: urllib3 in c:\\users\\vicky\\anaconda3\\lib\\site-packages (from pmdarima) (1.25.11)\n",
      "Collecting numpy~=1.19.0\n",
      "  Downloading numpy-1.19.5-cp38-cp38-win_amd64.whl (13.3 MB)\n",
      "Requirement already satisfied: scipy>=1.3.2 in c:\\users\\vicky\\anaconda3\\lib\\site-packages (from pmdarima) (1.5.0)\n",
      "Requirement already satisfied: python-dateutil>=2.7.3 in c:\\users\\vicky\\anaconda3\\lib\\site-packages (from pandas>=0.19->pmdarima) (2.8.1)\n",
      "Requirement already satisfied: pytz>=2017.2 in c:\\users\\vicky\\anaconda3\\lib\\site-packages (from pandas>=0.19->pmdarima) (2020.1)\n",
      "Requirement already satisfied: threadpoolctl>=2.0.0 in c:\\users\\vicky\\anaconda3\\lib\\site-packages (from scikit-learn>=0.22->pmdarima) (2.1.0)\n",
      "Requirement already satisfied: patsy>=0.5 in c:\\users\\vicky\\anaconda3\\lib\\site-packages (from statsmodels!=0.12.0,>=0.11->pmdarima) (0.5.1)\n",
      "Requirement already satisfied: six>=1.5 in c:\\users\\vicky\\anaconda3\\lib\\site-packages (from python-dateutil>=2.7.3->pandas>=0.19->pmdarima) (1.15.0)\n",
      "Installing collected packages: numpy, pmdarima\n",
      "  Attempting uninstall: numpy\n",
      "    Found existing installation: numpy 1.18.5\n",
      "    Uninstalling numpy-1.18.5:\n",
      "      Successfully uninstalled numpy-1.18.5\n",
      "Successfully installed numpy-1.19.5 pmdarima-1.8.2\n"
     ]
    },
    {
     "name": "stderr",
     "output_type": "stream",
     "text": [
      "ERROR: tensorflow 2.3.1 has requirement numpy<1.19.0,>=1.16.0, but you'll have numpy 1.19.5 which is incompatible.\n",
      "ERROR: spacy 2.3.2 has requirement tqdm<5.0.0,>=4.38.0, but you'll have tqdm 4.11.2 which is incompatible.\n",
      "ERROR: scikit-image 0.16.2 has requirement imageio>=2.3.0, but you'll have imageio 2.1.2 which is incompatible.\n",
      "ERROR: instabot 0.117.0 has requirement moviepy>=1.0.1, but you'll have moviepy 0.2.3.2 which is incompatible.\n",
      "ERROR: instabot 0.117.0 has requirement tqdm>=4.41.1, but you'll have tqdm 4.11.2 which is incompatible.\n",
      "ERROR: gensim 3.8.3 has requirement Cython==0.29.14, but you'll have cython 0.29.19 which is incompatible.\n"
     ]
    }
   ],
   "source": [
    "!pip install pmdarima"
   ]
  },
  {
   "cell_type": "code",
   "execution_count": 2,
   "metadata": {
    "colab": {},
    "colab_type": "code",
    "id": "sJUCGgJAeXmn"
   },
   "outputs": [],
   "source": [
    "import pandas as pd\n",
    "import numpy as np"
   ]
  },
  {
   "cell_type": "markdown",
   "metadata": {
    "colab_type": "text",
    "id": "kzMWL_bGvvuY"
   },
   "source": [
    "#Read Data"
   ]
  },
  {
   "cell_type": "code",
   "execution_count": 4,
   "metadata": {
    "colab": {
     "base_uri": "https://localhost:8080/",
     "height": 243
    },
    "colab_type": "code",
    "id": "rKYgCgvcebUM",
    "outputId": "8d11db02-ce47-432f-a9f6-dd8b06c79dd3"
   },
   "outputs": [
    {
     "name": "stdout",
     "output_type": "stream",
     "text": [
      "Shape of data (1821, 5)\n"
     ]
    },
    {
     "data": {
      "text/html": [
       "<div>\n",
       "<style scoped>\n",
       "    .dataframe tbody tr th:only-of-type {\n",
       "        vertical-align: middle;\n",
       "    }\n",
       "\n",
       "    .dataframe tbody tr th {\n",
       "        vertical-align: top;\n",
       "    }\n",
       "\n",
       "    .dataframe thead th {\n",
       "        text-align: right;\n",
       "    }\n",
       "</style>\n",
       "<table border=\"1\" class=\"dataframe\">\n",
       "  <thead>\n",
       "    <tr style=\"text-align: right;\">\n",
       "      <th></th>\n",
       "      <th>MinTemp</th>\n",
       "      <th>MaxTemp</th>\n",
       "      <th>AvgTemp</th>\n",
       "      <th>Sunrise</th>\n",
       "      <th>Sunset</th>\n",
       "    </tr>\n",
       "    <tr>\n",
       "      <th>DATE</th>\n",
       "      <th></th>\n",
       "      <th></th>\n",
       "      <th></th>\n",
       "      <th></th>\n",
       "      <th></th>\n",
       "    </tr>\n",
       "  </thead>\n",
       "  <tbody>\n",
       "    <tr>\n",
       "      <th>2014-01-01</th>\n",
       "      <td>33.0</td>\n",
       "      <td>46.0</td>\n",
       "      <td>40.0</td>\n",
       "      <td>657</td>\n",
       "      <td>1756</td>\n",
       "    </tr>\n",
       "    <tr>\n",
       "      <th>2014-01-02</th>\n",
       "      <td>35.0</td>\n",
       "      <td>50.0</td>\n",
       "      <td>43.0</td>\n",
       "      <td>657</td>\n",
       "      <td>1756</td>\n",
       "    </tr>\n",
       "    <tr>\n",
       "      <th>2014-01-03</th>\n",
       "      <td>36.0</td>\n",
       "      <td>45.0</td>\n",
       "      <td>41.0</td>\n",
       "      <td>657</td>\n",
       "      <td>1757</td>\n",
       "    </tr>\n",
       "    <tr>\n",
       "      <th>2014-01-04</th>\n",
       "      <td>32.0</td>\n",
       "      <td>41.0</td>\n",
       "      <td>37.0</td>\n",
       "      <td>658</td>\n",
       "      <td>1757</td>\n",
       "    </tr>\n",
       "    <tr>\n",
       "      <th>2014-01-05</th>\n",
       "      <td>24.0</td>\n",
       "      <td>38.0</td>\n",
       "      <td>31.0</td>\n",
       "      <td>658</td>\n",
       "      <td>1758</td>\n",
       "    </tr>\n",
       "  </tbody>\n",
       "</table>\n",
       "</div>"
      ],
      "text/plain": [
       "            MinTemp  MaxTemp  AvgTemp  Sunrise  Sunset\n",
       "DATE                                                  \n",
       "2014-01-01     33.0     46.0     40.0      657    1756\n",
       "2014-01-02     35.0     50.0     43.0      657    1756\n",
       "2014-01-03     36.0     45.0     41.0      657    1757\n",
       "2014-01-04     32.0     41.0     37.0      658    1757\n",
       "2014-01-05     24.0     38.0     31.0      658    1758"
      ]
     },
     "execution_count": 4,
     "metadata": {},
     "output_type": "execute_result"
    }
   ],
   "source": [
    "df=pd.read_csv('MaunaLoaDailyTemps.csv',index_col='DATE',parse_dates=True)\n",
    "df=df.dropna()\n",
    "print('Shape of data',df.shape)\n",
    "df.head()"
   ]
  },
  {
   "cell_type": "markdown",
   "metadata": {
    "colab_type": "text",
    "id": "kVswd7W7vyi4"
   },
   "source": [
    "#Plot Your Data"
   ]
  },
  {
   "cell_type": "code",
   "execution_count": 5,
   "metadata": {
    "colab": {
     "base_uri": "https://localhost:8080/",
     "height": 334
    },
    "colab_type": "code",
    "id": "KppUuT8-ejqD",
    "outputId": "aabcf955-c76b-436f-8f4d-b1f1f35a975c"
   },
   "outputs": [
    {
     "data": {
      "text/plain": [
       "<matplotlib.axes._subplots.AxesSubplot at 0x25fb938d790>"
      ]
     },
     "execution_count": 5,
     "metadata": {},
     "output_type": "execute_result"
    },
    {
     "data": {
      "image/png": "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\n",
      "text/plain": [
       "<Figure size 864x360 with 1 Axes>"
      ]
     },
     "metadata": {
      "needs_background": "light"
     },
     "output_type": "display_data"
    }
   ],
   "source": [
    "df['AvgTemp'].plot(figsize=(12,5))"
   ]
  },
  {
   "cell_type": "markdown",
   "metadata": {
    "colab_type": "text",
    "id": "2YK8qw2Gv1bT"
   },
   "source": [
    "#Check For Stationarity"
   ]
  },
  {
   "cell_type": "code",
   "execution_count": 6,
   "metadata": {
    "colab": {},
    "colab_type": "code",
    "id": "8TqnvNbBexKT"
   },
   "outputs": [],
   "source": [
    "from statsmodels.tsa.stattools import adfuller\n",
    "\n",
    "def adf_test(dataset):\n",
    "  dftest = adfuller(dataset, autolag = 'AIC')\n",
    "  print(\"1. ADF : \",dftest[0])\n",
    "  print(\"2. P-Value : \", dftest[1])\n",
    "  print(\"3. Num Of Lags : \", dftest[2])\n",
    "  print(\"4. Num Of Observations Used For ADF Regression and Critical Values Calculation :\", dftest[3])\n",
    "  print(\"5. Critical Values :\")\n",
    "  for key, val in dftest[4].items():\n",
    "      print(\"\\t\",key, \": \", val)"
   ]
  },
  {
   "cell_type": "code",
   "execution_count": 7,
   "metadata": {
    "colab": {
     "base_uri": "https://localhost:8080/",
     "height": 150
    },
    "colab_type": "code",
    "id": "muTlXcZYe3Jk",
    "outputId": "80456da0-cc9f-46a0-dbbc-875d9f8b5c51"
   },
   "outputs": [
    {
     "name": "stdout",
     "output_type": "stream",
     "text": [
      "1. ADF :  -6.554680125068782\n",
      "2. P-Value :  8.675937480199415e-09\n",
      "3. Num Of Lags :  12\n",
      "4. Num Of Observations Used For ADF Regression and Critical Values Calculation : 1808\n",
      "5. Critical Values :\n",
      "\t 1% :  -3.433972018026501\n",
      "\t 5% :  -2.8631399192826676\n",
      "\t 10% :  -2.5676217442756872\n"
     ]
    }
   ],
   "source": [
    "adf_test(df['AvgTemp'])"
   ]
  },
  {
   "cell_type": "markdown",
   "metadata": {
    "colab_type": "text",
    "id": "XE7o8ZDEv6TV"
   },
   "source": [
    "#Figure Out Order for ARIMA Model"
   ]
  },
  {
   "cell_type": "code",
   "execution_count": 8,
   "metadata": {
    "colab": {},
    "colab_type": "code",
    "id": "0Y1yq4A5e6j8"
   },
   "outputs": [],
   "source": [
    "from pmdarima import auto_arima\n",
    "# Ignore harmless warnings\n",
    "import warnings\n",
    "warnings.filterwarnings(\"ignore\")"
   ]
  },
  {
   "cell_type": "code",
   "execution_count": 9,
   "metadata": {
    "colab": {
     "base_uri": "https://localhost:8080/",
     "height": 497
    },
    "colab_type": "code",
    "id": "6ikhqu-mfHCA",
    "outputId": "12c50b57-0a9c-4c14-c4a3-3061d4ebd954"
   },
   "outputs": [
    {
     "data": {
      "text/html": [
       "<table class=\"simpletable\">\n",
       "<caption>SARIMAX Results</caption>\n",
       "<tr>\n",
       "  <th>Dep. Variable:</th>           <td>y</td>        <th>  No. Observations:  </th>   <td>1821</td>   \n",
       "</tr>\n",
       "<tr>\n",
       "  <th>Model:</th>           <td>SARIMAX(1, 0, 5)</td> <th>  Log Likelihood     </th> <td>-4139.426</td>\n",
       "</tr>\n",
       "<tr>\n",
       "  <th>Date:</th>            <td>Tue, 15 Jun 2021</td> <th>  AIC                </th> <td>8294.852</td> \n",
       "</tr>\n",
       "<tr>\n",
       "  <th>Time:</th>                <td>22:22:54</td>     <th>  BIC                </th> <td>8338.909</td> \n",
       "</tr>\n",
       "<tr>\n",
       "  <th>Sample:</th>                  <td>0</td>        <th>  HQIC               </th> <td>8311.105</td> \n",
       "</tr>\n",
       "<tr>\n",
       "  <th></th>                      <td> - 1821</td>     <th>                     </th>     <td> </td>    \n",
       "</tr>\n",
       "<tr>\n",
       "  <th>Covariance Type:</th>        <td>opg</td>       <th>                     </th>     <td> </td>    \n",
       "</tr>\n",
       "</table>\n",
       "<table class=\"simpletable\">\n",
       "<tr>\n",
       "      <td></td>         <th>coef</th>     <th>std err</th>      <th>z</th>      <th>P>|z|</th>  <th>[0.025</th>    <th>0.975]</th>  \n",
       "</tr>\n",
       "<tr>\n",
       "  <th>intercept</th> <td>    1.2183</td> <td>    0.369</td> <td>    3.301</td> <td> 0.001</td> <td>    0.495</td> <td>    1.942</td>\n",
       "</tr>\n",
       "<tr>\n",
       "  <th>ar.L1</th>     <td>    0.9738</td> <td>    0.008</td> <td>  122.423</td> <td> 0.000</td> <td>    0.958</td> <td>    0.989</td>\n",
       "</tr>\n",
       "<tr>\n",
       "  <th>ma.L1</th>     <td>   -0.1193</td> <td>    0.024</td> <td>   -4.999</td> <td> 0.000</td> <td>   -0.166</td> <td>   -0.073</td>\n",
       "</tr>\n",
       "<tr>\n",
       "  <th>ma.L2</th>     <td>   -0.2185</td> <td>    0.024</td> <td>   -9.027</td> <td> 0.000</td> <td>   -0.266</td> <td>   -0.171</td>\n",
       "</tr>\n",
       "<tr>\n",
       "  <th>ma.L3</th>     <td>   -0.2045</td> <td>    0.024</td> <td>   -8.528</td> <td> 0.000</td> <td>   -0.252</td> <td>   -0.158</td>\n",
       "</tr>\n",
       "<tr>\n",
       "  <th>ma.L4</th>     <td>   -0.1362</td> <td>    0.023</td> <td>   -5.965</td> <td> 0.000</td> <td>   -0.181</td> <td>   -0.091</td>\n",
       "</tr>\n",
       "<tr>\n",
       "  <th>ma.L5</th>     <td>   -0.0482</td> <td>    0.024</td> <td>   -1.972</td> <td> 0.049</td> <td>   -0.096</td> <td>   -0.000</td>\n",
       "</tr>\n",
       "<tr>\n",
       "  <th>sigma2</th>    <td>    5.5220</td> <td>    0.174</td> <td>   31.804</td> <td> 0.000</td> <td>    5.182</td> <td>    5.862</td>\n",
       "</tr>\n",
       "</table>\n",
       "<table class=\"simpletable\">\n",
       "<tr>\n",
       "  <th>Ljung-Box (Q):</th>          <td>35.69</td> <th>  Jarque-Bera (JB):  </th> <td>20.20</td>\n",
       "</tr>\n",
       "<tr>\n",
       "  <th>Prob(Q):</th>                <td>0.66</td>  <th>  Prob(JB):          </th> <td>0.00</td> \n",
       "</tr>\n",
       "<tr>\n",
       "  <th>Heteroskedasticity (H):</th> <td>0.81</td>  <th>  Skew:              </th> <td>-0.17</td>\n",
       "</tr>\n",
       "<tr>\n",
       "  <th>Prob(H) (two-sided):</th>    <td>0.01</td>  <th>  Kurtosis:          </th> <td>3.39</td> \n",
       "</tr>\n",
       "</table><br/><br/>Warnings:<br/>[1] Covariance matrix calculated using the outer product of gradients (complex-step)."
      ],
      "text/plain": [
       "<class 'statsmodels.iolib.summary.Summary'>\n",
       "\"\"\"\n",
       "                               SARIMAX Results                                \n",
       "==============================================================================\n",
       "Dep. Variable:                      y   No. Observations:                 1821\n",
       "Model:               SARIMAX(1, 0, 5)   Log Likelihood               -4139.426\n",
       "Date:                Tue, 15 Jun 2021   AIC                           8294.852\n",
       "Time:                        22:22:54   BIC                           8338.909\n",
       "Sample:                             0   HQIC                          8311.105\n",
       "                               - 1821                                         \n",
       "Covariance Type:                  opg                                         \n",
       "==============================================================================\n",
       "                 coef    std err          z      P>|z|      [0.025      0.975]\n",
       "------------------------------------------------------------------------------\n",
       "intercept      1.2183      0.369      3.301      0.001       0.495       1.942\n",
       "ar.L1          0.9738      0.008    122.423      0.000       0.958       0.989\n",
       "ma.L1         -0.1193      0.024     -4.999      0.000      -0.166      -0.073\n",
       "ma.L2         -0.2185      0.024     -9.027      0.000      -0.266      -0.171\n",
       "ma.L3         -0.2045      0.024     -8.528      0.000      -0.252      -0.158\n",
       "ma.L4         -0.1362      0.023     -5.965      0.000      -0.181      -0.091\n",
       "ma.L5         -0.0482      0.024     -1.972      0.049      -0.096      -0.000\n",
       "sigma2         5.5220      0.174     31.804      0.000       5.182       5.862\n",
       "===================================================================================\n",
       "Ljung-Box (Q):                       35.69   Jarque-Bera (JB):                20.20\n",
       "Prob(Q):                              0.66   Prob(JB):                         0.00\n",
       "Heteroskedasticity (H):               0.81   Skew:                            -0.17\n",
       "Prob(H) (two-sided):                  0.01   Kurtosis:                         3.39\n",
       "===================================================================================\n",
       "\n",
       "Warnings:\n",
       "[1] Covariance matrix calculated using the outer product of gradients (complex-step).\n",
       "\"\"\""
      ]
     },
     "execution_count": 9,
     "metadata": {},
     "output_type": "execute_result"
    }
   ],
   "source": [
    "stepwise_fit = auto_arima(df['AvgTemp'], \n",
    "                          suppress_warnings=True)           \n",
    "\n",
    "stepwise_fit.summary()"
   ]
  },
  {
   "cell_type": "code",
   "execution_count": 10,
   "metadata": {
    "colab": {},
    "colab_type": "code",
    "id": "i2OiS6-gfKHs"
   },
   "outputs": [],
   "source": [
    "from statsmodels.tsa.arima_model import ARIMA"
   ]
  },
  {
   "cell_type": "markdown",
   "metadata": {
    "colab_type": "text",
    "id": "y-JQDC6yv9_y"
   },
   "source": [
    "#Split Data into Training and Testing"
   ]
  },
  {
   "cell_type": "code",
   "execution_count": 11,
   "metadata": {
    "colab": {
     "base_uri": "https://localhost:8080/",
     "height": 234
    },
    "colab_type": "code",
    "id": "h-SgGft2fYMF",
    "outputId": "44f0e4aa-b673-4f81-e3cb-a9ee81948ee4"
   },
   "outputs": [
    {
     "name": "stdout",
     "output_type": "stream",
     "text": [
      "(1821, 5)\n",
      "(1791, 5) (30, 5)\n",
      "MinTemp      36.0\n",
      "MaxTemp      52.0\n",
      "AvgTemp      44.0\n",
      "Sunrise     640.0\n",
      "Sunset     1743.0\n",
      "Name: 2018-12-01 00:00:00, dtype: float64 MinTemp      39.0\n",
      "MaxTemp      52.0\n",
      "AvgTemp      46.0\n",
      "Sunrise     656.0\n",
      "Sunset     1754.0\n",
      "Name: 2018-12-30 00:00:00, dtype: float64\n"
     ]
    }
   ],
   "source": [
    "print(df.shape)\n",
    "train=df.iloc[:-30]\n",
    "test=df.iloc[-30:]\n",
    "print(train.shape,test.shape)\n",
    "print(test.iloc[0],test.iloc[-1])"
   ]
  },
  {
   "cell_type": "markdown",
   "metadata": {
    "colab_type": "text",
    "id": "emUTK7M6wCmx"
   },
   "source": [
    "## Train the Model"
   ]
  },
  {
   "cell_type": "code",
   "execution_count": 12,
   "metadata": {
    "colab": {
     "base_uri": "https://localhost:8080/",
     "height": 470
    },
    "colab_type": "code",
    "id": "LKr5XHt0fbWT",
    "outputId": "78d6a43a-ed4b-48b3-9bea-20fb185ed8e4"
   },
   "outputs": [
    {
     "data": {
      "text/html": [
       "<table class=\"simpletable\">\n",
       "<caption>ARMA Model Results</caption>\n",
       "<tr>\n",
       "  <th>Dep. Variable:</th>      <td>AvgTemp</td>     <th>  No. Observations:  </th>   <td>1791</td>   \n",
       "</tr>\n",
       "<tr>\n",
       "  <th>Model:</th>            <td>ARMA(1, 5)</td>    <th>  Log Likelihood     </th> <td>-4070.198</td>\n",
       "</tr>\n",
       "<tr>\n",
       "  <th>Method:</th>             <td>css-mle</td>     <th>  S.D. of innovations</th>   <td>2.347</td>  \n",
       "</tr>\n",
       "<tr>\n",
       "  <th>Date:</th>          <td>Tue, 15 Jun 2021</td> <th>  AIC                </th> <td>8156.395</td> \n",
       "</tr>\n",
       "<tr>\n",
       "  <th>Time:</th>              <td>22:22:55</td>     <th>  BIC                </th> <td>8200.320</td> \n",
       "</tr>\n",
       "<tr>\n",
       "  <th>Sample:</th>                <td>0</td>        <th>  HQIC               </th> <td>8172.614</td> \n",
       "</tr>\n",
       "<tr>\n",
       "  <th></th>                       <td> </td>        <th>                     </th>     <td> </td>    \n",
       "</tr>\n",
       "</table>\n",
       "<table class=\"simpletable\">\n",
       "<tr>\n",
       "        <td></td>           <th>coef</th>     <th>std err</th>      <th>z</th>      <th>P>|z|</th>  <th>[0.025</th>    <th>0.975]</th>  \n",
       "</tr>\n",
       "<tr>\n",
       "  <th>const</th>         <td>   46.5857</td> <td>    0.785</td> <td>   59.355</td> <td> 0.000</td> <td>   45.047</td> <td>   48.124</td>\n",
       "</tr>\n",
       "<tr>\n",
       "  <th>ar.L1.AvgTemp</th> <td>    0.9856</td> <td>    0.007</td> <td>  150.629</td> <td> 0.000</td> <td>    0.973</td> <td>    0.998</td>\n",
       "</tr>\n",
       "<tr>\n",
       "  <th>ma.L1.AvgTemp</th> <td>   -0.1412</td> <td>    0.025</td> <td>   -5.735</td> <td> 0.000</td> <td>   -0.190</td> <td>   -0.093</td>\n",
       "</tr>\n",
       "<tr>\n",
       "  <th>ma.L2.AvgTemp</th> <td>   -0.2268</td> <td>    0.024</td> <td>   -9.295</td> <td> 0.000</td> <td>   -0.275</td> <td>   -0.179</td>\n",
       "</tr>\n",
       "<tr>\n",
       "  <th>ma.L3.AvgTemp</th> <td>   -0.2168</td> <td>    0.026</td> <td>   -8.416</td> <td> 0.000</td> <td>   -0.267</td> <td>   -0.166</td>\n",
       "</tr>\n",
       "<tr>\n",
       "  <th>ma.L4.AvgTemp</th> <td>   -0.1479</td> <td>    0.023</td> <td>   -6.300</td> <td> 0.000</td> <td>   -0.194</td> <td>   -0.102</td>\n",
       "</tr>\n",
       "<tr>\n",
       "  <th>ma.L5.AvgTemp</th> <td>   -0.0594</td> <td>    0.025</td> <td>   -2.411</td> <td> 0.016</td> <td>   -0.108</td> <td>   -0.011</td>\n",
       "</tr>\n",
       "</table>\n",
       "<table class=\"simpletable\">\n",
       "<caption>Roots</caption>\n",
       "<tr>\n",
       "    <td></td>   <th>            Real</th>  <th>         Imaginary</th> <th>         Modulus</th>  <th>        Frequency</th>\n",
       "</tr>\n",
       "<tr>\n",
       "  <th>AR.1</th> <td>           1.0146</td> <td>          +0.0000j</td> <td>           1.0146</td> <td>           0.0000</td>\n",
       "</tr>\n",
       "<tr>\n",
       "  <th>MA.1</th> <td>           1.0883</td> <td>          -0.0000j</td> <td>           1.0883</td> <td>          -0.0000</td>\n",
       "</tr>\n",
       "<tr>\n",
       "  <th>MA.2</th> <td>           0.0555</td> <td>          -1.8423j</td> <td>           1.8431</td> <td>          -0.2452</td>\n",
       "</tr>\n",
       "<tr>\n",
       "  <th>MA.3</th> <td>           0.0555</td> <td>          +1.8423j</td> <td>           1.8431</td> <td>           0.2452</td>\n",
       "</tr>\n",
       "<tr>\n",
       "  <th>MA.4</th> <td>          -1.8432</td> <td>          -1.0734j</td> <td>           2.1330</td> <td>          -0.4161</td>\n",
       "</tr>\n",
       "<tr>\n",
       "  <th>MA.5</th> <td>          -1.8432</td> <td>          +1.0734j</td> <td>           2.1330</td> <td>           0.4161</td>\n",
       "</tr>\n",
       "</table>"
      ],
      "text/plain": [
       "<class 'statsmodels.iolib.summary.Summary'>\n",
       "\"\"\"\n",
       "                              ARMA Model Results                              \n",
       "==============================================================================\n",
       "Dep. Variable:                AvgTemp   No. Observations:                 1791\n",
       "Model:                     ARMA(1, 5)   Log Likelihood               -4070.198\n",
       "Method:                       css-mle   S.D. of innovations              2.347\n",
       "Date:                Tue, 15 Jun 2021   AIC                           8156.395\n",
       "Time:                        22:22:55   BIC                           8200.320\n",
       "Sample:                             0   HQIC                          8172.614\n",
       "                                                                              \n",
       "=================================================================================\n",
       "                    coef    std err          z      P>|z|      [0.025      0.975]\n",
       "---------------------------------------------------------------------------------\n",
       "const            46.5857      0.785     59.355      0.000      45.047      48.124\n",
       "ar.L1.AvgTemp     0.9856      0.007    150.629      0.000       0.973       0.998\n",
       "ma.L1.AvgTemp    -0.1412      0.025     -5.735      0.000      -0.190      -0.093\n",
       "ma.L2.AvgTemp    -0.2268      0.024     -9.295      0.000      -0.275      -0.179\n",
       "ma.L3.AvgTemp    -0.2168      0.026     -8.416      0.000      -0.267      -0.166\n",
       "ma.L4.AvgTemp    -0.1479      0.023     -6.300      0.000      -0.194      -0.102\n",
       "ma.L5.AvgTemp    -0.0594      0.025     -2.411      0.016      -0.108      -0.011\n",
       "                                    Roots                                    \n",
       "=============================================================================\n",
       "                  Real          Imaginary           Modulus         Frequency\n",
       "-----------------------------------------------------------------------------\n",
       "AR.1            1.0146           +0.0000j            1.0146            0.0000\n",
       "MA.1            1.0883           -0.0000j            1.0883           -0.0000\n",
       "MA.2            0.0555           -1.8423j            1.8431           -0.2452\n",
       "MA.3            0.0555           +1.8423j            1.8431            0.2452\n",
       "MA.4           -1.8432           -1.0734j            2.1330           -0.4161\n",
       "MA.5           -1.8432           +1.0734j            2.1330            0.4161\n",
       "-----------------------------------------------------------------------------\n",
       "\"\"\""
      ]
     },
     "execution_count": 12,
     "metadata": {},
     "output_type": "execute_result"
    }
   ],
   "source": [
    "from statsmodels.tsa.arima_model import ARIMA\n",
    "model=ARIMA(train['AvgTemp'],order=(1,0,5))\n",
    "model=model.fit()\n",
    "model.summary()\n"
   ]
  },
  {
   "cell_type": "markdown",
   "metadata": {
    "colab_type": "text",
    "id": "QnJXQ4iBwFec"
   },
   "source": [
    "#Make Predictions on Test Set"
   ]
  },
  {
   "cell_type": "code",
   "execution_count": 14,
   "metadata": {
    "colab": {
     "base_uri": "https://localhost:8080/",
     "height": 331
    },
    "colab_type": "code",
    "id": "2ZtJTygKfg5i",
    "outputId": "46053cf4-b267-4cb8-c89d-fbb7f1fc079c"
   },
   "outputs": [
    {
     "data": {
      "text/plain": [
       "<matplotlib.axes._subplots.AxesSubplot at 0x25fbfc1efd0>"
      ]
     },
     "execution_count": 14,
     "metadata": {},
     "output_type": "execute_result"
    },
    {
     "data": {
      "image/png": "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\n",
      "text/plain": [
       "<Figure size 432x288 with 1 Axes>"
      ]
     },
     "metadata": {
      "needs_background": "light"
     },
     "output_type": "display_data"
    }
   ],
   "source": [
    "start=len(train)\n",
    "end=len(train)+len(test)-1\n",
    "#if the predicted values dont have date values as index, you will have to uncomment the following two commented lines to plot a graph\n",
    "#index_future_dates=pd.date_range(start='2018-12-01',end='2018-12-30')\n",
    "pred=model.predict(start=start,end=end,typ='levels').rename('ARIMA predictions')\n",
    "#pred.index=index_future_dates\n",
    "pred.plot(legend=True)\n",
    "# test['AvgTemp'].plot(legend=True)\n"
   ]
  },
  {
   "cell_type": "code",
   "execution_count": 16,
   "metadata": {
    "colab": {
     "base_uri": "https://localhost:8080/",
     "height": 331
    },
    "colab_type": "code",
    "id": "grTT31Tdfqfb",
    "outputId": "8caf1342-cc91-496f-c4ca-9159007add83"
   },
   "outputs": [
    {
     "data": {
      "text/plain": [
       "<matplotlib.axes._subplots.AxesSubplot at 0x25fbb523700>"
      ]
     },
     "execution_count": 16,
     "metadata": {},
     "output_type": "execute_result"
    },
    {
     "data": {
      "image/png": "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\n",
      "text/plain": [
       "<Figure size 432x288 with 1 Axes>"
      ]
     },
     "metadata": {
      "needs_background": "light"
     },
     "output_type": "display_data"
    }
   ],
   "source": [
    "pred.plot(legend='ARIMA Predictions')\n",
    "# test['AvgTemp'].plot(legend=True)"
   ]
  },
  {
   "cell_type": "code",
   "execution_count": 17,
   "metadata": {
    "colab": {
     "base_uri": "https://localhost:8080/",
     "height": 33
    },
    "colab_type": "code",
    "id": "3R2eTZHDfz5H",
    "outputId": "8dcb8e41-f96d-4adf-9784-21342aacb1a4"
   },
   "outputs": [
    {
     "data": {
      "text/plain": [
       "45.0"
      ]
     },
     "execution_count": 17,
     "metadata": {},
     "output_type": "execute_result"
    }
   ],
   "source": [
    "test['AvgTemp'].mean()"
   ]
  },
  {
   "cell_type": "code",
   "execution_count": 18,
   "metadata": {
    "colab": {
     "base_uri": "https://localhost:8080/",
     "height": 33
    },
    "colab_type": "code",
    "id": "zQ7SB2lQux5x",
    "outputId": "740e2eeb-e2b0-42ac-ec76-58da663146e9"
   },
   "outputs": [
    {
     "name": "stdout",
     "output_type": "stream",
     "text": [
      "3.0004974432481375\n"
     ]
    }
   ],
   "source": [
    "from sklearn.metrics import mean_squared_error\n",
    "from math import sqrt\n",
    "rmse=sqrt(mean_squared_error(pred,test['AvgTemp']))\n",
    "print(rmse)\n"
   ]
  },
  {
   "cell_type": "code",
   "execution_count": 19,
   "metadata": {
    "colab": {
     "base_uri": "https://localhost:8080/",
     "height": 226
    },
    "colab_type": "code",
    "id": "DgJUq_lGvV10",
    "outputId": "c4087b3d-d92b-44ce-b116-fa1c7ffd3b47"
   },
   "outputs": [
    {
     "data": {
      "text/html": [
       "<div>\n",
       "<style scoped>\n",
       "    .dataframe tbody tr th:only-of-type {\n",
       "        vertical-align: middle;\n",
       "    }\n",
       "\n",
       "    .dataframe tbody tr th {\n",
       "        vertical-align: top;\n",
       "    }\n",
       "\n",
       "    .dataframe thead th {\n",
       "        text-align: right;\n",
       "    }\n",
       "</style>\n",
       "<table border=\"1\" class=\"dataframe\">\n",
       "  <thead>\n",
       "    <tr style=\"text-align: right;\">\n",
       "      <th></th>\n",
       "      <th>MinTemp</th>\n",
       "      <th>MaxTemp</th>\n",
       "      <th>AvgTemp</th>\n",
       "      <th>Sunrise</th>\n",
       "      <th>Sunset</th>\n",
       "    </tr>\n",
       "    <tr>\n",
       "      <th>DATE</th>\n",
       "      <th></th>\n",
       "      <th></th>\n",
       "      <th></th>\n",
       "      <th></th>\n",
       "      <th></th>\n",
       "    </tr>\n",
       "  </thead>\n",
       "  <tbody>\n",
       "    <tr>\n",
       "      <th>2018-12-26</th>\n",
       "      <td>35.0</td>\n",
       "      <td>45.0</td>\n",
       "      <td>40.0</td>\n",
       "      <td>654</td>\n",
       "      <td>1752</td>\n",
       "    </tr>\n",
       "    <tr>\n",
       "      <th>2018-12-27</th>\n",
       "      <td>33.0</td>\n",
       "      <td>44.0</td>\n",
       "      <td>39.0</td>\n",
       "      <td>655</td>\n",
       "      <td>1752</td>\n",
       "    </tr>\n",
       "    <tr>\n",
       "      <th>2018-12-28</th>\n",
       "      <td>33.0</td>\n",
       "      <td>47.0</td>\n",
       "      <td>40.0</td>\n",
       "      <td>655</td>\n",
       "      <td>1753</td>\n",
       "    </tr>\n",
       "    <tr>\n",
       "      <th>2018-12-29</th>\n",
       "      <td>36.0</td>\n",
       "      <td>47.0</td>\n",
       "      <td>42.0</td>\n",
       "      <td>655</td>\n",
       "      <td>1753</td>\n",
       "    </tr>\n",
       "    <tr>\n",
       "      <th>2018-12-30</th>\n",
       "      <td>39.0</td>\n",
       "      <td>52.0</td>\n",
       "      <td>46.0</td>\n",
       "      <td>656</td>\n",
       "      <td>1754</td>\n",
       "    </tr>\n",
       "  </tbody>\n",
       "</table>\n",
       "</div>"
      ],
      "text/plain": [
       "            MinTemp  MaxTemp  AvgTemp  Sunrise  Sunset\n",
       "DATE                                                  \n",
       "2018-12-26     35.0     45.0     40.0      654    1752\n",
       "2018-12-27     33.0     44.0     39.0      655    1752\n",
       "2018-12-28     33.0     47.0     40.0      655    1753\n",
       "2018-12-29     36.0     47.0     42.0      655    1753\n",
       "2018-12-30     39.0     52.0     46.0      656    1754"
      ]
     },
     "execution_count": 19,
     "metadata": {},
     "output_type": "execute_result"
    }
   ],
   "source": [
    "model2=ARIMA(df['AvgTemp'],order=(1,0,5))\n",
    "model2=model2.fit()\n",
    "df.tail()"
   ]
  },
  {
   "cell_type": "markdown",
   "metadata": {
    "colab_type": "text",
    "id": "hQ4chXSmvSZw"
   },
   "source": [
    "#For Future Dates"
   ]
  },
  {
   "cell_type": "code",
   "execution_count": 20,
   "metadata": {
    "colab": {
     "base_uri": "https://localhost:8080/",
     "height": 552
    },
    "colab_type": "code",
    "id": "ZsjzMPfKqVag",
    "outputId": "8de3772d-8613-4db7-91d4-673d3a1909e9"
   },
   "outputs": [
    {
     "name": "stdout",
     "output_type": "stream",
     "text": [
      "2018-12-30    46.418065\n",
      "2018-12-31    46.113784\n",
      "2019-01-01    45.617774\n",
      "2019-01-02    45.249559\n",
      "2019-01-03    45.116986\n",
      "2019-01-04    45.136773\n",
      "2019-01-05    45.156282\n",
      "2019-01-06    45.175518\n",
      "2019-01-07    45.194485\n",
      "2019-01-08    45.213185\n",
      "2019-01-09    45.231624\n",
      "2019-01-10    45.249805\n",
      "2019-01-11    45.267731\n",
      "2019-01-12    45.285405\n",
      "2019-01-13    45.302832\n",
      "2019-01-14    45.320015\n",
      "2019-01-15    45.336957\n",
      "2019-01-16    45.353662\n",
      "2019-01-17    45.370133\n",
      "2019-01-18    45.386373\n",
      "2019-01-19    45.402386\n",
      "2019-01-20    45.418174\n",
      "2019-01-21    45.433741\n",
      "2019-01-22    45.449090\n",
      "2019-01-23    45.464224\n",
      "2019-01-24    45.479146\n",
      "2019-01-25    45.493859\n",
      "2019-01-26    45.508365\n",
      "2019-01-27    45.522669\n",
      "2019-01-28    45.536772\n",
      "2019-01-29    45.550677\n",
      "Freq: D, Name: ARIMA Predictions, dtype: float64\n"
     ]
    }
   ],
   "source": [
    "index_future_dates=pd.date_range(start='2018-12-30',end='2019-01-29')\n",
    "#print(index_future_dates)\n",
    "pred=model2.predict(start=len(df),end=len(df)+30,typ='levels').rename('ARIMA Predictions')\n",
    "#print(comp_pred)\n",
    "pred.index=index_future_dates\n",
    "print(pred)"
   ]
  },
  {
   "cell_type": "code",
   "execution_count": 21,
   "metadata": {
    "colab": {
     "base_uri": "https://localhost:8080/",
     "height": 372
    },
    "colab_type": "code",
    "id": "hPgempSauwqo",
    "outputId": "3dc42a39-ff4d-4c6e-ac68-0cef1ffe7d01"
   },
   "outputs": [
    {
     "data": {
      "text/plain": [
       "<matplotlib.axes._subplots.AxesSubplot at 0x25fc3e5fcd0>"
      ]
     },
     "execution_count": 21,
     "metadata": {},
     "output_type": "execute_result"
    },
    {
     "data": {
      "image/png": "iVBORw0KGgoAAAANSUhEUgAAAskAAAFSCAYAAAAAfELwAAAABHNCSVQICAgIfAhkiAAAAAlwSFlzAAALEgAACxIB0t1+/AAAADh0RVh0U29mdHdhcmUAbWF0cGxvdGxpYiB2ZXJzaW9uMy4yLjIsIGh0dHA6Ly9tYXRwbG90bGliLm9yZy+WH4yJAAAgAElEQVR4nO3deXidZZ3/8c83+76vTdImXaF7IS0FBMsiVECWQYG5RJhLL1FHZhC3kfmp4DiKPwbEYX4zKm7o0Cm7KAxDVZQZRKeQQqEbdKFb2mxN2jRrs92/P86TNDlN2qTN6XOW9+u6ztWzPM99viek5NM73+e+zTknAAAAAEfF+V0AAAAAEG4IyQAAAEAQQjIAAAAQhJAMAAAABCEkAwAAAEEIyQAAAECQBL8LGE1BQYGrrKz0uwwAAABEsXXr1h1wzhWO9lpYhuTKykrV1NT4XQYAAACimJntHus12i0AAACAIIRkAAAAIAghGQAAAAgSlj3JAAAAodLb26va2lp1d3f7XQpOk5SUFJWXlysxMXHc5xCSAQBATKmtrVVmZqYqKytlZn6XgxBzzqm5uVm1tbWqqqoa93m0WwAAgJjS3d2t/Px8AnKMMDPl5+dP+DcHhGQAABBzCMix5WT+exOSAQAAfPDLX/5SZqZ33nln6Lldu3YpNTVVixcv1ty5c3XLLbeot7dXkvTyyy/rqquukiQ98sgjMjO99NJLx4z31FNPDT3X1NSkxMRE/fCHPxyzjhUrVmjOnDlatGiRzj//fL377rsn/ZkeeeQR3X777ZKkH/zgB/rFL34x5rG7du3Sf/zHfww9rqmp0d/+7d+e9HtPNkIyAACAD1avXq33ve99euyxx0Y8P2PGDK1fv14bNmxQbW2tnnjiiVHPX7BggVavXj30+LHHHtOiRYtGHPPkk09q+fLlI44bzapVq/TWW2/p1ltv1Ze+9KVjXu/v7x/vxxry6U9/WrfccsuYrweH5Orqaj300EMTfp9QCcuQ7JzfFQAAAIROe3u7Xn31Vf3kJz85JiQPio+P17Jly7Rv375RX7/gggv02muvqbe3V+3t7dq+fbsWL1484pjVq1frgQceUG1t7ZjjDHfhhRdq+/btkqSMjAx9/etf1znnnKM///nPevTRR7Vs2TItXrxYn/rUp4aC889+9jPNnj1b73//+/Xqq68OjXXPPffo/vvvlyRt375dl156qRYtWqSzzjpLO3bs0Fe+8hW98sorWrx4sR588MERM+UtLS269tprtXDhQi1fvlxvv/320Jgf//jHtWLFCk2fPn0oVHd0dOjKK6/UokWLNH/+fD3++OMn/KwnMu6QbGbxZvammT0/7Lm/MbN3zWyTmd03kXOPp7Wrd7xlAQAARJxnn31WK1eu1OzZs5WXl6c33njjmGO6u7u1du1arVy5ctQxzEyXXnqp1qxZo1/96le6+uqrR7y+d+9e1dfXa9myZbrhhhvGFRyfe+45LViwQFIgeM6fP19r165Vfn6+Hn/8cb366qtav3694uPjtWrVKtXV1enuu+/Wq6++qt/+9rfavHnzqON+9KMf1Wc/+1m99dZb+tOf/qTS0lJ95zvf0QUXXKD169frzjvvHHH83XffrSVLlujtt9/Wt7/97REz0u+8847WrFmj1157Td/4xjfU29urF198UVOmTNFbb72ljRs3jvk1m4iJLAF3h6QtkrIkycwuknSNpIXOuSNmVjTec0+kpaNnAmUBAACcnG88t0mb9x+e1DHnTsnS3R+ad9xjVq9erc997nOSpJtuukmrV6/WWWedJUnasWOHFi9erG3btunDH/6wFi5cOOY4N910kx566CG1trbqgQce0Le//e2h1x577DHdcMMNQ8d94hOf0Oc///lRx/noRz+q1NRUVVZW6l/+5V8kBWayr7/+eknSSy+9pHXr1mnp0qWSpK6uLhUVFWnt2rVasWKFCgsLJUk33nijtm7dOmLstrY27du3T9ddd52kwJrFJ/LHP/5RTz/9tCTp4osvVnNzs1pbWyVJV155pZKTk5WcnKyioiI1NDRowYIF+uIXv6i/+7u/01VXXaULLrjghO9xIuMKyWZWLulKSd+SNPjV/Yyk7zjnjkiSc65xAuceV0dPn3Y3d2hafvp4DgcAAIgYzc3N+v3vf6+NGzfKzNTf3y8z0333BX4pP9iTXFdXpxUrVujXv/71MbPEg5YtW6aNGzcqNTVVs2fPHvHa6tWr1dDQoFWrVkmS9u/fr23btmnWrFnHjLNq1SpVV1ePeC4lJUXx8fGSAmsN33rrrbr33ntHHPPss8+ecOUIdxJ9tKOdM/g+ycnJQ8/Fx8err69Ps2fP1rp16/TCCy/orrvu0mWXXaavf/3rE37f4cY7k/w9SV+WlDnsudmSLjCzb0nqlvRF59zr4zz3hJ6sqdUXL58zkVMAAAAm5EQzvqHw1FNP6ZZbbhmx4sT73/9+/fGPf1RFRcXQc4MtCffee++YIVmS7r333mNmZ9999111dHSM6EO+++679dhjj+lrX/vahGu+5JJLdM011+jOO+9UUVGRWlpa1NbWpnPOOUd33HGHmpublZWVpSeffPKYiwezsrJUXl6uZ599Vtdee62OHDmi/v5+ZWZmqq2tbdT3u/DCC7Vq1Sp97Wtf08svv6yCggJlZY3dkLB//37l5eXp5ptvVkZGhh555JEJf8ZgJ+xJNrOrJDU659YFvZQgKVfScklfkvSEBf1T4jjnjvY+t5lZjZnVJNuAnlpXq/4BruADAADRZfXq1UOtB4Ouv/76ESs9DLr22mvV2dmpV155ZczxPvjBD+qiiy4a13ucaJWLscydO1f/+I//qMsuu0wLFy7UBz7wAdXV1am0tFT33HOPzj33XF166aVDLSPB/v3f/10PPfSQFi5cqPPOO0/19fVauHChEhIStGjRIj344IMjjr/nnntUU1OjhQsX6itf+Yp+/vOfH7e+DRs2DF1U+K1vfUtf/epXT+pzDmcnmgI3s3slfUxSn6QUBfqKn5FUoEC7xcvecTskLXfONZ3oXOfczcd7z1nzFrneD31bP/urpbrojOO1OgMAAEzMli1bdOaZZ/pdBk6z0f67m9k651z1aMefcCbZOXeXc67cOVcp6SZJv/dC7rOSLvbeYLakJEkHxnnucWWlJCo/PUmPv773RIcCAAAAk+5U1kn+qaTpZrZR0mOSbnXOOTObYmYvnEpRZtJ1S8r0uy0Nam4/cipDAQAAABM2oZDsnHvZOXeVd7/HOXezc26+c+4s59zvvef3O+euON6543Hj0gr1DTj98s0TL3wNAAAATKaw3HFPkmYVZ2rJ1Bw9/vrek1o6BAAAYCxki9hyMv+9wzYkS9KN1RXa1tiuN/ce8rsUAAAQJVJSUtTc3ExQjhHOOTU3N49rE5PhJrLj3ml31aIp+sZzm/XE63t11tRcv8sBAABRoLy8XLW1tWpqajrxwYgKKSkpKi8vn9A5YR2SM5ITdOXCUj331n597aq5Sk8O63IBAEAESExMVFVVld9lIMyFdbuFFLiAr6OnX/+5oc7vUgAAABAjwj4kV0/L1fTCdD3BmskAAAA4TcI+JJuZbqiuUM3ug9re2O53OQAAAIgBYR+SJekvzipTfJzpyXXMJgMAACD0IiIkF2Wm6OIzivT0un3q7R/wuxwAAABEuYgIyVJgzeQD7Uf0h3ca/S4FAAAAUS5iQvKKOYUqzEzWEzW0XAAAACC0IiYkJ8TH6fqzyvWHd5vUeLjb73IAAAAQxSImJEvSDdXl6h9weuqNWr9LAQAAQBSLqJA8vTBDyyrz9GRNLfutAwAAIGQiKiRL0g1LK7TzQIde29nidykAAACIUhEXkq9YUKKM5AQ9UUPLBQAAAEIj4kJyWlKCPrRoil7YUKe27l6/ywEAAEAUiriQLEk3Lq1QV2+/nnurzu9SAAAAEIUiMiQvKs/WnOJMPc6ayQAAAAiBiAzJZqaPVJfrrb2H9G59m9/lAAAAIMpEZEiWpL84q1yJ8abHX2c2GQAAAJMrYkNyXnqSPjC3WL98s1ZH+vr9LgcAAABRJGJDsiTdUF2hg529+t3mRr9LAQAAQBSJ6JB8waxCTclO4QI+AAAATKqIDsnxcaYPn12uV7Y1af+hLr/LAQAAQJSI6JAsSR+prpBz0lPr2IEPAAAAkyPiQ3JFXprOn5mvJ2r2amDA+V0OAAAAokDEh2QpcAFf7cEu/fm9Zr9LAQAAQBSIipB8+bwSZaUksGYyAAAAJsW4Q7KZxZvZm2b2/LDn/sbM3jWzTWZ23yjnVJjZH8xsi3fMHZNV+HApifG6dkmZXtxUr9bO3lC8BQAAAGLIRGaS75C0ZfCBmV0k6RpJC51z8yTdP8o5fZK+4Jw7U9JySZ81s7mnUO+YbqiuUE/fgJ5dvy8UwwMAACCGjCskm1m5pCsl/XjY05+R9B3n3BFJcs4ds6OHc67OOfeGd79NgZBddqpFj2Z+WbbmTcmi5QIAAACnbLwzyd+T9GVJA8Oemy3pAjNba2b/bWZLjzeAmVVKWiJp7UnUOS43Lq3Q5rrD2rivNVRvAQAAgBhwwpBsZldJanTOrQt6KUFSrgJtFF+S9ISZ2RhjZEh6WtLnnHOHxzjmNjOrMbOapqamiXyGIdcsKlNSQpyeYAc+AAAAnILxzCSfL+lqM9sl6TFJF5vZo5JqJT3jAl5TYJa5IPhkM0tUICCvcs49M9abOOceds5VO+eqCwsLT+KjSNlpifrg/BI9++Y+dff2n9QYAAAAwAlDsnPuLudcuXOuUtJNkn7vnLtZ0rOSLpYkM5stKUnSgeHnejPLP5G0xTn33UmufVQ3VlfocHef1myqPx1vBwAAgCh0Kusk/1TSdDPbqMAM863OOWdmU8zsBe+Y8yV9TIHZ5/Xe7YpTrPm4lk/PV0VeKhfwAQAA4KQlTORg59zLkl727vdIunmUY/ZLusK7/0dJo/Yph0pcnOkjZ1fou7/dqj3NnZqan3Y63x4AAABRICp23Av24bPLZSY9uY7ZZAAAAExcVIbkKTmpunBWoZ5aV6v+Aed3OQAAAIgwURmSpcCayXWt3Xpl28ktJwcAAIDYFbUh+dIzi5WXnsSayQAAAJiwqA3JSQlxum5JmX67uUHN7Uf8LgcAAAARJGpDsiTdUF2h3n6nX765z+9SAAAAEEGiOiTPKcnUooocPVGzV85xAR8AAADGJ6pDshTYgW9rQ7vW7z3kdykAAACIEFEfkj+0qFSpifFcwAcAAIBxi/qQnJmSqCsWlOq5t+rU2dPndzkAAACIAFEfkqXAmsntR/r0n2/X+V0KAAAAIkBMhOSllbmampem/9pY73cpAAAAiAAxEZLNTOfNyFfNrhYNsE01AAAATiAmQrIkLa3M0+HuPm1tbPO7FAAAAIS5mArJkvT6zhafKwEAAEC4i5mQXJGXquKsZL2266DfpQAAACDMxUxINjMtrczT6ztb2H0PAAAAxxUzIVkKtFzUH+5W7cEuv0sBAABAGIu5kCxJr++iLxkAAABji6mQPKckU5kpCXqdvmQAAAAcR0yF5Pg409nTcplJBgAAwHHFVEiWAi0X2xvb1dLR43cpAAAACFMxF5KXVQX6kmuYTQYAAMAYYi4kLyjLVlJ8HC0XAAAAGFPMheSUxHgtqsjm4j0AAACMKeZCshToS964r1WdPX1+lwIAAIAwFLMhuW/Aaf2eQ36XAgAAgDAUkyH5rGm5MhMtFwAAABhVTIbk7NREnVGSxcV7AAAAGNW4Q7KZxZvZm2b2/LDn/sbM3jWzTWZ23xjnrfSO2W5mX5mMoifD0spcvbHnoPr6B/wuBQAAAGFmIjPJd0jaMvjAzC6SdI2khc65eZLuDz7BzOIl/aukD0qaK+kvzWzuKVU8SZZW5qmzp1+b6w77XQoAAADCzLhCspmVS7pS0o+HPf0ZSd9xzh2RJOdc4yinLpO03Tn3nnOuR9JjCgRr3y2tDGwq8tpOWi4AAAAw0nhnkr8n6cuShvcmzJZ0gZmtNbP/NrOlo5xXJmnvsMe13nO+K8lOUUVeKn3JAAAAOMYJQ7KZXSWp0Tm3LuilBEm5kpZL+pKkJ8zMgk8fZUg3xvvcZmY1ZlbT1NR04sonwdLKPNXsOijnRi0JAAAAMWo8M8nnS7razHYp0C5xsZk9qsCs8DMu4DUFZpkLgs6tlVQx7HG5pP2jvYlz7mHnXLVzrrqwsHCCH+PkLKvMU3NHj9470HFa3g8AAACR4YQh2Tl3l3Ou3DlXKekmSb93zt0s6VlJF0uSmc2WlCTpQNDpr0uaZWZVZpbknf/rSaz/lFR7fcmv05cMAACAYU5lneSfSppuZhsVmGG+1TnnzGyKmb0gSc65Pkm3S1qjwMoYTzjnNp1q0ZNlRmG68tOT2FQEAAAAIyRM5GDn3MuSXvbu90i6eZRj9ku6YtjjFyS9cCpFhoqZqboyl4v3AAAAMEJM7rg33NLKPO1p6VTD4W6/SwEAAECYICQP9iUzmwwAAABPzIfkeVOylJYUz8V7AAAAGBLzITkhPk5LpuboNS7eAwAAgCfmQ7IUaLl4p/6wDnf3+l0KAAAAwgAhWYFNRZyT1u1mNhkAAACEZEnS4qk5Sogz+pIBAAAgiZAsSUpLStC8smzV0JcMAAAAEZKHLKvM1fraQzrS1+93KQAAAPAZIdlTXZmnnr4BvV3b6ncpAAAA8Bkh2VM9LVcSm4oAAACAkDwkPyNZMwrTuXgPAAAAhOThllXlqWb3QfUPOL9LAQAAgI8IycMsrcxTW3eftja0+V0KAAAAfERIHmZpZZ4k+pIBAABiHSF5mPLcVJVkpeh11ksGAACIaYTkYcxMS6vy9PrOFjlHXzIAAECsIiQHWVqZq/rD3ao92OV3KQAAAPAJITkIfckAAAAgJAeZU5ypzJQEQjIAAEAMIyQHiYszVU/L1WtsKgIAABCzCMmjWFqVpx1NHWpuP+J3KQAAAPABIXkUy7y+5JrdLAUHAAAQiwjJo1hQnq2khDi9TssFAABATCIkjyI5IV6Ly3P0OjPJAAAAMYmQPIalVbnatK9VnT19fpcCAACA04yQPIbqyjz1DTi9ueeQ36UAAADgNCMkj+HsabkyY1MRAACAWERIHkNWSqLOLMkiJAMAAMSgcYdkM4s3szfN7Hnv8T1mts/M1nu3K8Y4704z22RmG81stZmlTFbxoba0Mldv7D6k3v4Bv0sBAADAaTSRmeQ7JG0Jeu5B59xi7/ZC8AlmVibpbyVVO+fmS4qXdNNJV3uaLa3KU1dvvzbvP+x3KQAAADiNxhWSzaxc0pWSfnwS75EgKdXMEiSlSdp/EmP4Yqm3qQgtFwAAALFlvDPJ35P0ZUnBfQe3m9nbZvZTM8sNPsk5t0/S/ZL2SKqT1Oqc+82pFHw6FWelaGpeml5jUxEAAICYcsKQbGZXSWp0zq0Leun7kmZIWqxAAH5glHNzJV0jqUrSFEnpZnbzGO9zm5nVmFlNU1PTxD5FCC2tzFPN7oNyzvldCgAAAE6T8cwkny/pajPbJekxSReb2aPOuQbnXL9zbkDSjyQtG+XcSyXtdM41Oed6JT0j6bzR3sQ597Bzrto5V11YWHhSHyYUllXlqqWjRzuaOvwuBQAAAKfJCUOyc+4u51y5c65SgYvufu+cu9nMSocddp2kjaOcvkfScjNLMzOTdImOvfgvrFXTlwwAABBzTmWd5PvMbIOZvS3pIkl3SpKZTTGzFyTJObdW0lOS3pC0wXu/h0+t5NNrekG6CjKSCMkAAAAxJGEiBzvnXpb0snf/Y2Mcs1/SFcMe3y3p7pOu0GdmpuppeYRkAACAGMKOe+NQXZmrvS1dqm/t9rsUAAAAnAaE5HFYVkVfMgAAQCwhJI/D3NIspSXFE5IBAABiBCF5HBLi43TW1Fw2FQEAAIgRhORxWlqZp3cb2tTa1et3KQAAAAgxQvI4La3KlXPSG7sP+l0KAAAAQoyQPE5LKnKVEGf0JQMAAMQAQvI4pSbFa35ZNiEZAAAgBhCSJ2BZVZ7e2tuq7t5+v0sBAABACBGSJ6B6Wq56+ge0YV+r36UAAAAghAjJE7C0MrCpCEvBAQAARDdC8gTkpidpVlEGfckAAABRjpA8QdWVeVq3+6D6B5zfpQAAACBECMkTtKwqV23dfXq3vs3vUgAAABAihOQJGuxLpuUCAAAgehGSJ6gsJ1Wl2SmEZAAAgChGSJ4gM9PSyjy9vqtFztGXDAAAEI0IySdhaVWeGg4f0d6WLr9LAQAAQAgQkk/C0spcSfQlAwAARCtC8kmYXZSp7NREQjIAAECUIiSfhLg4U/W0XL1GSAYAAIhKhOSTVF2Zp/eaOtTcfsTvUgAAADDJCMknaVnVYF/yQZ8rAQAAwGQjJJ+k+WXZSk6Ioy8ZAAAgChGST1JyQrwWVeSohpAMAAAQdQjJp2BZZZ427j+sjiN9fpcCAACASURIPgXVlbnqH3B6c88hv0sBAADAJCIkn4Kzp+UqzthUBAAAINoQkk9BZkqizizNIiQDAABEmXGHZDOLN7M3zex57/E9ZrbPzNZ7tyvGOC/HzJ4ys3fMbIuZnTtZxYeDpZV5emPPQXX39vtdCgAAACbJRGaS75C0Jei5B51zi73bC2Oc98+SXnTOnSFp0ShjRLRLzixSd++AXtl2wO9SAAAAMEnGFZLNrFzSlZJ+PJHBzSxL0oWSfiJJzrke51xUXeW2fHq+slIS9OLGer9LAQAAwCQZ70zy9yR9WdJA0PO3m9nbZvZTM8sd5bzpkpok/cxr1fixmaWfQr1hJzE+TpfOLdbvtjSotz/4ywMAAIBIdMKQbGZXSWp0zq0Leun7kmZIWiypTtIDo5yeIOksSd93zi2R1CHpK2O8z21mVmNmNU1NTRP4CP67fF6JWrt6tfY9LuADAACIBuOZST5f0tVmtkvSY5IuNrNHnXMNzrl+59yApB9JWjbKubWSap1za73HTykQmo/hnHvYOVftnKsuLCyc8Afx04WzCpWaGK81m2i5AAAAiAYnDMnOubucc+XOuUpJN0n6vXPuZjMrHXbYdZI2jnJuvaS9ZjbHe+oSSZtPvezwkpoUrxVzCrVmU70GBpzf5QAAAOAUnco6yfeZ2QYze1vSRZLulCQzm2Jmw1e6+BtJq7zjFkv69im8Z9haOb9EjW1H9ObeqLouEQAAICYlTORg59zLkl727n9sjGP2S7pi2OP1kqpPusIIcdEZRUqMN/1mU73OnjbaNYwAAACIFOy4N0myUhJ13owCvbipXs7RcgEAABDJCMmTaOX8Eu1u7tQ79W1+lwIAAIBTQEieRJeeWSwzsbEIAABAhCMkT6LCzGQtnZbHUnAAAABhqLOnT9sb2/TfW5u0+rU9xz12Qhfu4cQun1+ibz6/WbsOdKiyIKo2FwQAAAhbAwNOBzqOaP+hbu072KX9h7q0z7vt924HO3vHPR4heZJdPq9Y33x+s9Zsqten3j/D73IAAACiQndvvxd2u7X/UJdqh4Xfwed7+gdGnJOeFK+y3FSV5aRqcUWOpuSkqjw3VVNyArfy/zv2+xGSJ1l5bprml2XpRUIyAADAuDjndKizd2jmd7SZ4APtPSPOMZOKM1M0JSdF88uydfn8EpXlpGpKdqrKvCCclZIgMzupmgjJIbByXonu/81WNRzuVnFWit/lAAAA+Kp/wKnhcPdQ4K09eGwY7uzpH3FOSmJcIPTmpGrelKwR4bcsJ1XFWSlKSgjd5XWE5BBYOT8Qkn+zqV4fO7fS73IAAABCqru3X7XDZ3+9+7Xe/frD3eofGLmPRG5aospyUzW9MF3vm1WgMq8VoiwnTVNyUpSXnnTSs8CTgZAcAjOLMjW9MF0vEpIBAEAUONzdq30HA4G39mDniLaIfaO0QsSZVJKVorLcVC2tzA3M/nq9weW5qSrNTlV6cnjH0PCuLoKtnFeiH/7PezrU2aOctCS/ywEAABiVc07NHT1DgXfwz9qDnUNtEW3dfSPOSUqIU7kXfM8szVLZsBBclpuqkqwUJcRH9krDhOQQWTm/RP/28g79bkujPnx2ud/lAACAGDUw4NTYdkT7DgVC7+AtEIgDs8LdvSNXhchITvBaH1K1rCrvmBBckJ6suDj/WiFOB0JyiCwoy9aU7BS9uLGekAwAAEKmr39ADW1HVNvS6c0AH22JqD3YpbpRlkbLS09SWU6qZhdn6qI5RSMCcHlOmrJST35ViGhBSA4RM9Nl80r0H6/tUceRvrDvuwEAAOGpt39AdYe6VevNBO8bmgkOPK5rPfaiuMLMZJXnpmpheY4+ON+7IC43VRXe6hBpSeSSE+ErFEIr55fokT/t0n9vbdIVC0r9LgcAAIShnr4B1bUenQE+2hLRObQyxPAMbIMXxeWkqnpabmD2NzdtqD1iSk6qUhLj/ftAUYKQHEJLK/OUn56kFzfWE5IBAIhRxwvBtV4IdsNCcJxJpd6awMtn5AcCcM7R2eDS7NSQrg+MAEJyCMXHmS49s1j/uaFOR/r6lZzAv+oAAIg2Q+0QQwF4ZBAOngkeDMHluak6b0aBynNTvVtgNrgkO0WJEb4yRDQgJIfYyvklerxmr/60o1kXzSnyuxwAADBBff0Dqj/crb0tgdC7dzAItxw/BA+fCa4gBEccQnKInTczXxnJCVqzsZ6QDABAGBpcIm3vwc5ACB4Mwy1dqj3UqbpD3eobloLNpNKsFJXnpmn59HyV56UNzQZX5KYRgqMEITnEkhPiddEZRfrN5gZ96zqn+ChfUxAAgHDjnNOB9p4Rs8CDQXhwtYjgJdKKvNUhzpqaq/JFgfBbnpumijx6gmMFIfk0WDmvRM+9tV+v72rR8un5fpcDAEDUOdzdq70tw2eBA4F4b0sgCHf19o84Pi89SRW5qZpbmqXL5hUf0xLB6hAgJJ8GK+YUKikhTms21ROSAQA4Cd29/UMzwHsHQ7DXDrG3pUutXb0jjs9MTlB5XpqqCtJ14exCVeSmqiIvbSgEs38BToTvkNMgPTlBF84q1JqN9fr6VXNjfgcbAACC9fUPqK6125sBDgrDB7vU1HZkxPFJCXFDPcCLK3JUkZumirw0789UZXLEvYIAABsiSURBVKcm8vMWp4SQfJpcPq9Yv9vSoA37WrWwPMfvcgAAOK2cc2rp6NGeYW0Qg4F4T0un9h8auWvc4AoRFXmpWjG7MBCA81KHwnBhRrLiuM4HIURIPk0uPbNY8XGmFzfWE5IBAFGps6dPtQe7tKf56GzwnpbAihF7WjrV2TOyL7ggI0nluWlaUpGrqxeljpgNLs1hhQj4i5B8muSmJ2n59Dyt2VSvL688w+9yAACYsP4Bp7rWQPAd7AneM6w94kD7yJaI1MR4TfVmgM+dka+K3DTvMX3BCH98d55Gl88r0dd/tUnbG9s0syjT73IAADhGa1dglYg93m3vsD9rD3aNWC84Ps5Ump2iqXlpuuSMIk3ND4TfwSCcn55EXzAiFiH5NLpsbiAkv7ixXrdfTEgGAJx+g1so7xklCO9p6TxmlYjctERNzUvT/LJsfXBBaSAA56ZpWj6bZiC6EZJPo5LsFC2ZmqM1mxp0+8Wz/C4HABCFnHNq7erV7ubRQ3Bd68gL5BLjzdskI02LKrI1Ne9oS0RFXpqyUhJ9/DSAf8Ydks0sXlKNpH3OuavM7B5Jn5TU5B3y9865F8Zz7qmVHNlWzivRvf/1jmoPdqo8N83vcgAAEaivf0D7h80G727p0N6WzqFg3NbdN+L4gowkVeSl6expuUMBeDAMF2elsBssMIqJzCTfIWmLpKxhzz3onLv/JM+NSZd7IXnNpgZ94n1VfpcDAAhTbd2B2eC9LZ3aPWxGeHdzp/Yd6jpmNrgiN01T848G4eFhmAvkgIkb198aMyuXdKWkb0n6/ETe4FTOjUaVBek6oyRTazbWE5IBIIYNDDjVH+4eFoQ7tMdbLWJPc4cOdo7SG5yfrkUVOfrQolJNy0tXRV6gN5jZYGDyjfeflt+T9GVJwVeb3W5mtyjQSvEF59zBCZwbsy6fV6KHfr9NTW1HVJiZ7Hc5AIAQGdxKeXfz0VaI3c0dQxtq9PQNDB2bEGcq81aG+OCCUk0bbInIpzcY8MMJQ7KZXSWp0Tm3zsxWDHvp+5K+Kcl5fz4g6ePjPHe097lN0m2SNHXq1Al8hMhz+bwS/fNL2/S7LQ36y2XR/VkBINod6uwJhGBvBnjw/t6WTtUf7pY72hWh9KR4Tc1P16yiTF16ZrGm5qdpWl66pualaUpOihJYKQIIG+OZST5f0tVmdoWkFElZZvaoc+7mwQPM7EeSnj+Zcwc55x6W9LAkVVdXu+DXo8mZpZmampemFzfWE5IBIMwNDDjVHe4OzAAPheGjs8KHgy6SK8xM1rS8NJ07I1/T8tI1LT/NC8NpymPdYCBinDAkO+fuknSXJHmzwV90zt1sZqXOuTrvsOskbRzvuZNTeuQyM62cX6KfvbpTh7t7+RUaAPisp28g0BbR0qndBzqGgvCu5o5R2yLKc1M1NT9diytyNM1rh5iWH2iPSEviIjkgGpzK3+T7zGyxAu0WuyR9SpLMbIqkHzvnrjj18qLX5fNK9PD/vKc/vNOoaxaX+V0OAES9zp4+rzf4aEvE4P39h7o0bLEIpSbGa1p+mmYWZeiSM4s1zWuLmJafptJs2iKAWGDOhV9nQ3V1taupqfG7jJAaGHBafu9LOntarr5/89l+lwMAUeFQZ492DQvCu4a1SDS1HRlx7OBqEZVeK8Tg/an5aSrMSKYtAogBZrbOOVc92mv8TsgncXGmy+YV6+l1+9Td26+UxHi/SwKAsOec04H2Hu1u7hgKw8NDcfCWyiVZKZqWn6aL5hRqWn760Izw1Pw0ZafS6gZgbIRkH62cV6pH/3eP/mdrky6bV+J3OQAQFgYGnBraurXrwLEheHdzhzp6+oeOjTOpPDfQD3z1oimBEOzNCFfkpTEBAeCkEZJ9dM70PGWnJurFTfWEZAAxpX/Aaf+hLu3yQvCeoDB8ZNiFconxpoq8NFXmp+uc6XmqHJwRzk9XWU6qkhLoDwYw+QjJPkqMj9MlZxbpd5sb1Ns/oEQuBAEQRfr6B7TvUNdQ+N154Gif8N6WTvX2H70mJjkhTpX56arMT9eKOUWa6oXiaflpmpKTym5yAE47QrLPVs4r0TNv7NPa91r0vlkFfpcDABPS2z+gfQe9GeEDI/uE97Z0qm/YkhFpSfGalp+uOcWZunxeiablpamyIBCMizKTFUcQBhBGCMk+u3B2oVIT4/XipjpCMoCw1Ns/oNqDXV4IDswGB2aFO1R7sGtEEE73gvDc0ix9cH7JUAiuzE9TYSYrRgCIHIRkn6UkxmvFnEKt2dSgf7h6PjMpAHzR5wXhnYMzwgc6tNObFa492KX+YUE4IzlBlQVpmleWrSsXlgZCsBeGCzLYUQ5AdCAkh4GV80v0Xxvr9ebegzp7Wp7f5QCIUn39A9p/qHsoCO/0ZoZ3HTh2RngwCC8oy/ZWjUhXVUHgYrl8tlYGEAMIyWHgojOKlBhvWrOpgZAM4JSMWDXiQId2Hugcur/34MiL5dKS4lWZn655U47OCFcVpGsaM8IAQEgOB1kpiTpvRoFe3Fivuz54Bj+YABzX4DrCOwdng4dmhTu1p7lTPf1Hl08b3F55TkmmLp9foipvxYiqgnR6hAHgOAjJYWLl/BLd9cwGbalr09wpWX6XA8Bnzjk1d/Ro14EOvXegY+iiufeaAhfOdfUe3VAjKSFOlflpmlGYrkvOKBrqD64qSFdxFkEYAE4GITlMfGBusf7+lxv04qZ6QjIQQ1q7ekcE4F3eesI7D3Sorbtv6LiEOAusHVyQrvNnFqiyIF1V+emqKkxXaVYKF/0CwCQjJIeJgoxkLa3M02821evzH5jtdzkAJlFXT/+I8Du8RaK5o2foODOpLCdVVQXpunZxmaoK0oduZbmpbDgEAKcRITmMXD6vRN98frN2HuhQVUG63+UAmIChJdS89oidB9oDgbipQ/tbu0ccW5SZrKqCdH1gbrGqCgLLp00vSFdFXppSEuN9+gQAgOEIyWHk8nnF+ubzm7VmU70+/f4ZfpcDIIhzTo1tR/Re0+CMcPtQKN7TPHJ3uayUBFUVZuic6fkjZoQrC9KVkcz/egEg3PF/6jBSnhtYk5SQDPirtbNX7w3OBA/ODHv9wp09Ry+YS06IU1VBYJvllfNKVFWQrumF6aoqyFBuWiIXzAFABCMkh5nL5xXr/t9sVX1rt0qyU/wuB4haR/r6tae5U+8d6PBmhtuHZoiH9wnHmVSRF1gy7ZzpeZpeEAjBXDAHANGNkBxmVs4v0f2/2arfbK7XLedW+l0OENGcc6o/3K33mjq8MOy1RzR1qPZgp4Z1R6ggI1nTC4/2CU8vzFBVQbqm5qUpKYEL5gAg1hCSw8zMokzNKEzXixsJycB4He7u1c6mjkCLRFOHdnjtETsPdIxYTzgtKV5VBelaWJ6ta5eUebPCgWXUslISffwEAIBwQ0gOQyvnl+gH//2eDnb0KDc9ye9ygLDQ1z+gPS2d3qxw+7DZ4Q4daD8ydNxge8T0gnQtn56v6YWBlSOmF2awsQYAYNwIyWHo8nkl+tc/7NDvtjToI9UVfpcDnDbOObV09Ay1RrzX1KEdXigOXj0iPz1J070d5qqGgnC6pual0x4BADhlhOQwtKAsW1OyU7RmUz0hGVFp8KK5HU0d2tHUPmJ2uLWrd+i4pPg4VRakaXZRYPWI6YUZml6YrhkFGcpOoz0CABA6hOQwZGa6fH6JVq3do44jfUpnTVVEIOecmtqPaEfjsPaIpna9d6BDe1tGXjRXlBm4aO7KhaWaXpCuGV4YLs9NUzyrRwAAfED6ClNXLCjVz17dpX9a867u/tBc+igRto7OCrcPzQzvaOrQe43tajvSN3RcSmKcqgoyNL8sW9csmjI0K1xVkK5MLpoDAIQZQnKYWlqZp4+fX6WfvrpTU3JSdNuFbC4C/wz2Cu/wZoOHgnBTu/YEzQqXZKVoRlG6rl1SphmF6UNheEp2KmsKAwAiBiE5jH31yjPVcLhb337hHRVnpeiaxWV+l4Qo19s/oN3NnV4QHhmIR/QKJ8RpekG65k3J1tXerPCMwsAGG2y5DACIBvw0C2NxcaYHblikpvYj+uKTb6kwM1nnzSjwuyxEgdauXr3X1K7tjcNbJI5dQaIwM1kzvF7hwT7hmYUZmpKTSq8wACCqmXPuxEedZtXV1a6mpsbvMsJGa2evPvyDP6m+tVtPfuZcnVGS5XdJiAADA051h7u1o3EwDB+dFW5qO7qucGK8qTI/sHzaDG9GeEZRIBCzwQYAIJqZ2TrnXPWorxGSI8O+Q136i397VSbTM399nqbkpPpdEsJEd2+/djV3aEdjYEZ4MBC/1zRyt7mslATNLDoaggOBOF0VeWlKjGddYQBA7JmUkGxm8ZJqJO1zzl1lZvdI+qSkJu+Qv3fOvRB0ToWkX0gqkTQg6WHn3D+f6L0IyaPbvP+wbvjhnzUlJ0VPfvo8ZacyyxdLDnb0aHtTu3Y0Hp0R3t7Yrr0HOzX419hMKstJHTYjHJgdnlmUofz0JFZJAQBgmOOF5In0JN8haYuk4b/rf9A5d/9xzumT9AXn3BtmlilpnZn91jm3eQLvC8/cKVn64cfO1l/97DXd9osa/eITy5ScEO93WZhEAwNO+1u7hgLw9sajobi5o2fouOSEOE0vzNDC8mxdt6RMM4oyNLMwQ1UF6UpN4nsCAIBTNa6QbGblkq6U9C1Jnx/v4M65Okl13v02M9siqUwSIfkknT+zQP/04UX63OPr9YUn3tJDNy1hWa0I1NM3oN3NR4Pw9sF+4caRLRI5aYmaWZihD8wtDrRKeGG4LIfl1AAACKXxziR/T9KXJWUGPX+7md2iQBvGF5xzB8cawMwqJS2RtHbiZWK4a5eUqa61W//3xXdUmp2i/3PlXL9LwhjauntHzgp77RK7WzrVP2wVibKcVM0oytCyZfle33B6oEUiI9nH6gEAiF0nDMlmdpWkRufcOjNbMeyl70v6piTn/fmApI+PMUaGpKclfc45d3iMY26TdJskTZ06dQIfITZ9+v3TVdfapR+9slOl2an6+Puq/C4pZjnn1NzRo20N7UM9w9sa27S9sV0Nh49dRWJOSaauWFCqmUWBXuHphelKS2I1RgAAwsl4fjKfL+lqM7tCUoqkLDN71Dl38+ABZvYjSc+PdrKZJSoQkFc5554Z602ccw9LelgKXLg3/o8Qm8xMd39onhoOd+ub/7lZJdkpumJBqd9lRbXBfuGhFolhrRKHOo9utJGeFK+ZRRk6f2ZBIAh7q0lMZRUJAAAixglDsnPuLkl3SZI3k/xF59zNZlbq9RxL0nWSNgafa4FL6X8iaYtz7ruTVjUkSfFxpn++aYk++uO1+tzj61WQkaxlVXl+lxXx+voHtLul85gwvKOpXZ09R/uF89KTNLMwIzAr7K0gMbMoQ6XZKawiAQBAhDuV3/HeZ2aLFWi32CXpU5JkZlMk/dg5d4UCs9Afk7TBzNZ75x2zVBxOXkpivH58S7Wu/8Gf9Mlf1Ojpz5yrmUXBreMYTXdvv3Ye6NC2oSAcaJHYeaBDvf1Hf5lRmp2imUUZunFpxdDMMP3CAABENzYTiRJ7Wzp13b/9SckJcXrmr89TcVaK3yWFjc6ePu1o7NC2xjZta2wP9A43tmlPS6cGr52LM2lqXppmFmUOzQgPXkCXya5zAABEJXbcixEbalt148N/1rT8dD3xqeUxF+4Od/cGZoQbjl44t62xXbUHu4aOSYw3VRWka1ZRZmA5taIMzS7OUGV+ulISWV8YAIBYQkiOIS+/26hP/LxG507P10//aqmSEqLvQrGDHT1DLRJDYbihXfWHu4eOSUqI04zCDM0q8m7FGZpZlKlp+Vw8BwAAAiZrxz1EgBVzivSdv1igLz31tr7y9Nt64IZFEXsR2YH2I9rmzQpvGzY7fKD96M5zad5KEufNzNesokzN8maHK/LSFM9mGwAA4CQRkqPQR6orVNfare/+dqtKslP05ZVn+F3SmJxzOtDeMyIIb20IzBK3DNuGOTM5QTOLM3TxGUWaVZSpmcWBGeIp2ew8BwAAJh8hOUr9zcUzVdfapX97eYdKc1L1seXTfK3HOaem9iPa3tCurQ1HL6Db1timg8PWGM5MSdDs4kxdNrdYs4oDM8OzizNVnJUcsTPiAAAg8hCSo5SZ6ZvXzFfj4SO6+1cbVZyZrMvmlYT8fQfD8LaGdm1raNNW70K6rY1tIzbcyPLC8Mr5JYE2ieJAGC7KJAwDAAD/ceFelOvs6dNf/mit3qk7rP/45HKdPS13UsYdapNoaNNWLwwH7rertetoGM5OTdRs76K52cUZmuX9WUgYBgAAPmN1ixh3oP2Irv/+n3S4q1dPf+Y8TS/MmND5ze1HtHWoXzgQhLc1jGyTCA7Ds71WCcIwAAAIV4RkaNeBDl3//T8pLTleT3/mPBVlHrvZyKHOHm0d7BkeDMONbSNWk8hMThhqjZhVnKk5xcwMAwCAyERIhiRp/d5D+suH/1czizL01SvP1I6mDu8iukAgbmo7MnRselK8ZhZnas6wQDy7OEMlWSmEYQAAEBUIyRjy0pYGffIXNUPbMacmxmvWsF7hQCDOUFlOKmEYAABENTYTwZBLzizWs589X01tRzS7OFNlOawzDAAAEIyQHIMWluf4XQIAAEBYi/O7AAAAACDcEJIBAACAIIRkAAAAIAghGQAAAAhCSAYAAACCEJIBAACAIIRkAAAAIAghGQAAAAhCSAYAAACCEJIBAACAIOac87uGY5hZm6R3QzB0tqTWEIxbIOlACMaVQlcz44Z+7EgbN5RjR9q4oRw70sYN5diRNm4ox460cUM5dqSNG8qxI23cUI4dqnHnOOcyR33FORd2N0k1IRr34UiqN8Q1M26E1szXgq8FXwu+Fn6PG4k187XgazHGuGNmuFhrt3jO7wJOQqhqZtzQjx1p44Zy7EgbN5RjR9q4oRw70sYN5diRNm4ox460cUM5dqSNG8qxT3uGC9d2ixrnXLXfdYxXpNULAACA42e4cJ1JftjvAiYo0uoFAADAcTJcWIZk59wphU4zSzGz18zsLTPbZGbf8J7/iPd4wMwmbeb3VOtF5DOzlWb2rpltN7OveM89bmbrvdsuM1vvd52IDmb2UzNrNLONo7z2RTNzZlbgR22IPmZWYWZ/MLMt3s/QO7znQ/IzFbHtON9vi83sf72fqTVmtmwy3u94GS5hMt4gDB2RdLFzrt3MEiX90cz+S9JGSX8h6Ye+VoeoYmbxkv5V0gck1Up63cx+7Zy7cdgxDyh0VxIj9jwi6f9J+sXwJ82sQoHvwz0+1ITo1SfpC865N8wsU9I6M/ut+JmK0Bjr++0+Sd9wzv2XmV3hPV4RykLCcib5VLmAdu9hondzzrktzrlQLC2H2LZM0nbn3HvOuR5Jj0m6ZvBFMzNJN0ha7VN9iDLOuf+R1DLKSw9K+rKk8LvYBBHLOVfnnHvDu98maYukMn6mIhTG+n5T4P9rWd5h2ZL2h7qWaJ1JHpzdWydppqR/dc6t9bkkRK8ySXuHPa6VdM6wxxdIanDObTutVSGmmNnVkvY5594K/LsMmHxmVilpiSR+piLkgr7fPidpjZndr8Ak73mhfv+onEmWJOdcv3NusaRyScvMbL7fNSFqjZZIhs/k/aWYRUYImVmapP8j6et+14LoZWYZkp6W9Dnn3GG/60F0G+X77TOS7nTOVUi6U9JPQl1D1IbkQc65Q5JelrTS51IQvWolVQx7XC7v10BmlqBAz97jPtSF2DFDUpWkt8xslwLfg2+YWYmvVSFqeNf3PC1plXPuGb/rQXQb4/vtVkmD959UoNUxpKIyJJtZoZnlePdTJV0q6R1/q0IUe13SLDOrMrMkSTdJ+rX32qWS3nHO1fpWHaKec26Dc67IOVfpnKtU4B9uZznn6n0uDVHAu67iJ5K2OOe+63c9iG7H+X7bL+n93v2LJYW8hTFae5JLJf3c60uOk/SEc+55M7tO0r9IKpT0n2a23jl3uZ+FIvI55/rM7HZJayTFS/qpc26T9/JNotUCk8zMVitwVXeBmdVKuts5F/JfPSJmnS/pY5I2DFvK8u8lJYufqZh8Y32/fVLSP3u/oe2WdFuoCwnLHfcAAAAAP0VluwUAAABwKgjJAAAAQBBCMgAAABCEkAwAAAAEISQDAAAAQQjJAAAAQBBCMgAAABCEkAwAAAAEISQDAAAAQQjJAAAAQBBCMgAAABCEkAwAAAAEISQDAAAAQQjJAAAAQBBCMgAAABCEkAwAAAAEISRPgJm1+10DAAAAQo+QDAAAAAQhJE+QmWWY2Utm9oaZbTCza7znK81si5n9yMw2mdlvzCzV73oBAAAwceac87uGiOG1W+RISnPOHTazAkn/K2mWpGmStkuqds6tN7MnJP3aOfeofxUDAADgZCT4XUAEMknfNrMLJQ1IKpNU7L220zm33ru/TlLl6S8PAAAAp4qQPHEflVQo6WznXK+Z7ZKU4r12ZNhx/ZJotwAAAIhA9CRPXLakRi8gX6RAmwUAAACiCDPJ42RmCQrMFK+S9JyZ1UhaL+kdXwsDAADApOPCvXEys0WSfuScW+Z3LQAAAAgt2i3Gwcw+LWm1pK/6XQsAAABCj5lkAAAAIAgzyQAAAEAQQvIozKzCzP7g7aC3yczu8J7PM7Pfmtk2789c7/l87/h2M/t/QWPdaGZve+Pc58fnAQAAwMQQkkfXJ+kLzrkzJS2X9FkzmyvpK5Jecs7NkvSS91iSuiV9TdIXhw9iZvmS/knSJc65eZKKzeyS0/QZAAAAcJIIyaNwztU5597w7rdJ2qLAznrXSPq5d9jPJV3rHdPhnPujAmF5uOmStjrnmrzHv5N0fYjLBwAAwCkiJJ+AmVVKWiJpraRi51ydFAjSkopOcPp2SWeYWaW3zvK1kipCVy0AAAAmAyH5OMwsQ9LTkj7nnDs80fOdcwclfUbS45JekbRLgVYOAAAAhDFC8hjMLFGBgLzKOfeM93SDmZV6r5dKajzROM6555xz5zjnzpX0rqRtoaoZAAAAk4OQPAozM0k/kbTFOffdYS/9WtKt3v1bJf1qHGMVeX/mSvprST+e3GoBAAAw2dhMZBRm9j4F2iM2SBrwnv57BfqSn5A0VdIeSR9xzrV45+ySlCUpSdIhSZc55zab2WpJi7wx/sE599jp+hwAAAA4OYRkAAAAIAjtFgAAAEAQQjIAAAAQhJAMAAAABCEkAwAAAEEIyQAAAEAQQjIAAAAQhJAMAAAABCEkAwAAAEH+P7ss7q/2XQcoAAAAAElFTkSuQmCC\n",
      "text/plain": [
       "<Figure size 864x360 with 1 Axes>"
      ]
     },
     "metadata": {
      "needs_background": "light"
     },
     "output_type": "display_data"
    }
   ],
   "source": [
    "pred.plot(figsize=(12,5),legend=True)\n"
   ]
  },
  {
   "cell_type": "code",
   "execution_count": null,
   "metadata": {
    "colab": {},
    "colab_type": "code",
    "id": "JeeTSWbZww7r"
   },
   "outputs": [],
   "source": []
  },
  {
   "cell_type": "code",
   "execution_count": null,
   "metadata": {},
   "outputs": [],
   "source": []
  }
 ],
 "metadata": {
  "colab": {
   "authorship_tag": "ABX9TyNyCEF0bu5JjuFIh9AZRrLX",
   "collapsed_sections": [],
   "include_colab_link": true,
   "name": "Temperature_Forecast_ARIMA.ipynb",
   "provenance": [],
   "toc_visible": true
  },
  "kernelspec": {
   "display_name": "Python 3",
   "language": "python",
   "name": "python3"
  },
  "language_info": {
   "codemirror_mode": {
    "name": "ipython",
    "version": 3
   },
   "file_extension": ".py",
   "mimetype": "text/x-python",
   "name": "python",
   "nbconvert_exporter": "python",
   "pygments_lexer": "ipython3",
   "version": "3.8.3"
  }
 },
 "nbformat": 4,
 "nbformat_minor": 1
}
